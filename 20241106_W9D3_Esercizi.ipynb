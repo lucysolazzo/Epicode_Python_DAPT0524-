{
 "cells": [
  {
   "cell_type": "code",
   "execution_count": 1,
   "id": "b6da8f03-ddff-47ec-a70f-3a7a7bdfb699",
   "metadata": {},
   "outputs": [],
   "source": [
    "frase = 'I am studying Python'"
   ]
  },
  {
   "cell_type": "code",
   "execution_count": 2,
   "id": "34af94cf-1fc1-4936-b91b-37ca4d44635b",
   "metadata": {
    "jp-MarkdownHeadingCollapsed": true
   },
   "outputs": [
    {
     "data": {
      "text/plain": [
       "'I am studying a lot'"
      ]
     },
     "execution_count": 2,
     "metadata": {},
     "output_type": "execute_result"
    }
   ],
   "source": [
    "frase.replace('Python', 'a lot')"
   ]
  },
  {
   "cell_type": "code",
   "execution_count": 3,
   "id": "cdd66065-a939-4b17-aa1e-bf41b535ccba",
   "metadata": {},
   "outputs": [
    {
     "name": "stdout",
     "output_type": "stream",
     "text": [
      "I am studying a lot\n"
     ]
    }
   ],
   "source": [
    "print(frase.replace('Python', 'a lot'))"
   ]
  },
  {
   "cell_type": "code",
   "execution_count": 9,
   "id": "860e703a-4341-4299-94ca-27ced48733a8",
   "metadata": {},
   "outputs": [
    {
     "name": "stdout",
     "output_type": "stream",
     "text": [
      "la lunghezza della frase è di 20 caratteri\n"
     ]
    }
   ],
   "source": [
    "lunghezza = len(frase)\n",
    "print('la lunghezza della frase è di', lunghezza, 'caratteri')"
   ]
  },
  {
   "cell_type": "code",
   "execution_count": 5,
   "id": "276275ec-02f2-46c6-8dba-b9238415c6e7",
   "metadata": {},
   "outputs": [
    {
     "name": "stdout",
     "output_type": "stream",
     "text": [
      "Ho trovato il dato dell'utente Maria Callas\n"
     ]
    }
   ],
   "source": [
    "utente = 'Maria Callas'\n",
    "print(\"Ho trovato il dato dell'utente\", utente)"
   ]
  },
  {
   "cell_type": "code",
   "execution_count": 6,
   "id": "5eb8dd4b-cb65-4d47-8c8e-4e599df59fdd",
   "metadata": {},
   "outputs": [
    {
     "name": "stdout",
     "output_type": "stream",
     "text": [
      "Help on built-in function print in module builtins:\n",
      "\n",
      "print(*args, sep=' ', end='\\n', file=None, flush=False)\n",
      "    Prints the values to a stream, or to sys.stdout by default.\n",
      "\n",
      "    sep\n",
      "      string inserted between values, default a space.\n",
      "    end\n",
      "      string appended after the last value, default a newline.\n",
      "    file\n",
      "      a file-like object (stream); defaults to the current sys.stdout.\n",
      "    flush\n",
      "      whether to forcibly flush the stream.\n",
      "\n"
     ]
    }
   ],
   "source": [
    "help(print)"
   ]
  },
  {
   "cell_type": "code",
   "execution_count": 10,
   "id": "e9eb0f55-6c56-41df-9cf3-f61e0f2e6053",
   "metadata": {},
   "outputs": [
    {
     "name": "stdout",
     "output_type": "stream",
     "text": [
      "La leggendaria cantante Maria Callas ha iniziato a cantare all'età di 13 anni\n"
     ]
    }
   ],
   "source": [
    "print(\"La leggendaria cantante\", utente, \"ha iniziato a cantare all'età di 13 anni\")"
   ]
  },
  {
   "cell_type": "code",
   "execution_count": null,
   "id": "8d6dc3ed-aa3b-4e83-919f-3146be93a5ad",
   "metadata": {},
   "outputs": [],
   "source": []
  }
 ],
 "metadata": {
  "kernelspec": {
   "display_name": "Python 3 (ipykernel)",
   "language": "python",
   "name": "python3"
  },
  "language_info": {
   "codemirror_mode": {
    "name": "ipython",
    "version": 3
   },
   "file_extension": ".py",
   "mimetype": "text/x-python",
   "name": "python",
   "nbconvert_exporter": "python",
   "pygments_lexer": "ipython3",
   "version": "3.12.7"
  }
 },
 "nbformat": 4,
 "nbformat_minor": 5
}
