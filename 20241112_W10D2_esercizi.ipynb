{
 "cells": [
  {
   "cell_type": "markdown",
   "id": "73b86520-c047-4561-b6b6-5aaaf6e7d80d",
   "metadata": {},
   "source": [
    "01. Abbiamo una lista di liste. \n",
    "Che tipo di struttura dati o matematica potrebbe rappresentare? Notare che tutte le liste \"interne\" sono della stessa dimensione: è una matrice\n",
    "Come facciamo per accedere ad un elemento in particolare?"
   ]
  },
  {
   "cell_type": "code",
   "execution_count": 14,
   "id": "321cac98-8d83-4211-82ba-e607e04fb298",
   "metadata": {},
   "outputs": [
    {
     "name": "stdout",
     "output_type": "stream",
     "text": [
      "[0, 1, 2, 3, 4]\n",
      "[5, 6, 7, 8, 9]\n",
      "[10, 11, 12, 13, 14]\n"
     ]
    },
    {
     "data": {
      "text/plain": [
       "8"
      ]
     },
     "execution_count": 14,
     "metadata": {},
     "output_type": "execute_result"
    }
   ],
   "source": [
    "import numpy as np\n",
    "\n",
    "mat = [[0, 1, 2, 3, 4], [5, 6, 7, 8, 9], [10, 11, 12, 13, 14]]\n",
    "array_mat = np.array(mat) # casting\n",
    "for lista in mat:\n",
    "    print(lista)\n",
    "num = np.array([[0, 1, 2, 3, 4], [5, 6, 7, 8, 9], [10, 11, 12, 13, 14]])\n",
    "num[1][3]"
   ]
  },
  {
   "cell_type": "markdown",
   "id": "63a563da-0aed-4e00-b787-7cd088e606ec",
   "metadata": {},
   "source": [
    "02. Importiamo il modulo math e proviamo a usare le funzioni\n",
    ".sin()\n",
    ".cos()\n",
    ".factorial()\n",
    "e la variabile\n",
    ".pi\n",
    "la riconoscete?"
   ]
  },
  {
   "cell_type": "code",
   "execution_count": 47,
   "id": "9395873a-fd99-4fc4-84ea-90f28b389903",
   "metadata": {},
   "outputs": [
    {
     "data": {
      "text/plain": [
       "90.01166961505233"
      ]
     },
     "execution_count": 47,
     "metadata": {},
     "output_type": "execute_result"
    }
   ],
   "source": [
    "import math\n",
    "\n",
    "# per usare math.pi (ossia il pigreco) posso usare la formula per trasformare un angolo in radianti: ang= alpha(180°/pi) \n",
    "# suppongo di avere un angolo in radianti. Valore 1\n",
    "alpha = 1.571 # valore dell'angolo in radianti\n",
    "ang = alpha * (180 / math.pi) # trasformazione in gradi sessagesimali\n",
    "ang"
   ]
  },
  {
   "cell_type": "code",
   "execution_count": 50,
   "id": "ec315414-2d01-4878-a068-81ccb62574cb",
   "metadata": {},
   "outputs": [
    {
     "name": "stdout",
     "output_type": "stream",
     "text": [
      "12.499999999999998 21.65063509461097\n"
     ]
    }
   ],
   "source": [
    "# per usare le funzioni di seno e coseno invece ho pensato ad un triangolo rettangolo di cui conosciamo l'ipotenusa e l'ampiezza dell'angolo riferito all'ipotenusa. \n",
    "# Possiamo calcolare i cateti a e b \n",
    "\n",
    "i = 25\n",
    "ang = 30 # ampiezza angolo in gradi sessagesimali\n",
    "ang_rad = ang * (math.pi/180) # trasformazioni in radianti \n",
    "# il cateto a = i * sen(ang), mentre b = i *cos(ang)\n",
    "a = i * math.sin(ang_rad)\n",
    "b = i * math.cos(ang_rad)\n",
    "\n",
    "print(a, b)\n"
   ]
  },
  {
   "cell_type": "code",
   "execution_count": 52,
   "id": "69bf8394-541e-4647-be56-8f7b9f52bdb2",
   "metadata": {},
   "outputs": [
    {
     "data": {
      "text/plain": [
       "180.0"
      ]
     },
     "execution_count": 52,
     "metadata": {},
     "output_type": "execute_result"
    }
   ],
   "source": [
    "math.degrees(math.pi)"
   ]
  },
  {
   "cell_type": "code",
   "execution_count": 54,
   "id": "58230d0b-8a37-4928-b42c-25f207d71e50",
   "metadata": {},
   "outputs": [
    {
     "name": "stdout",
     "output_type": "stream",
     "text": [
      "Help on built-in function degrees in module math:\n",
      "\n",
      "degrees(x, /)\n",
      "    Convert angle x from radians to degrees.\n",
      "\n"
     ]
    }
   ],
   "source": [
    "help(math.degrees)"
   ]
  },
  {
   "cell_type": "markdown",
   "id": "511bf4fd-295a-4563-a449-3c78ef26b6dd",
   "metadata": {},
   "source": [
    "03. L'azienda Object SpA ha creato una lista di quanti oggetti ha venduto ogni\n",
    "mese nell'ultimo anno:\n",
    "lst = [2000, 5500, 7200, 4320, 1280, 1900,\n",
    "2500, 3900, 6410, 8150, 7100, 5350]\n",
    "trasformiamola in un array NumPy (casting):\n",
    "lst = np.array(lst)\n",
    "e rispondiamo alle domande del CEO della Object SpA:\n",
    "• qual è stata la vendita massima mensile? E quella minima?\n",
    "• quali sono le vendite mensili maggiori di 4999 oggetti? E quante ne sono?\n",
    "• quali sono le vendite minori di 3000 oggetti?\n",
    "• in media quanti oggetti sono stati venduti al mese?"
   ]
  },
  {
   "cell_type": "code",
   "execution_count": 76,
   "id": "6cb89ee8-7fcc-4050-b585-0cb8e0de325b",
   "metadata": {},
   "outputs": [
    {
     "name": "stdout",
     "output_type": "stream",
     "text": [
      "La vendita minima mensile è stata: 1280\n",
      "La vendita minima massima è stata: 8150\n",
      "Le vendite mensili maggiori di 4999 oggetti sono [5500 7200 6410 8150 7100 5350]\n",
      "Il numero dei mesi in cui sono stati venduti più di 4999 oggetti è: 6\n",
      "Le vendite minori di 300 oggetti sono: [2000 1280 1900 2500]\n",
      "La media degli oggetti venduti ogni mese è: 4634.166666666667\n"
     ]
    }
   ],
   "source": [
    "lst = [2000, 5500, 7200, 4320, 1280, 1900, 2500, 3900, 6410, 8150, 7100, 5350]\n",
    "lst_array = np.array(lst)\n",
    "\n",
    "# qual è stata la vendita massima mensile? E quella minima?\n",
    "print(f\"La vendita minima mensile è stata: {lst_array.min()}\")\n",
    "print(f\"La vendita minima massima è stata: {lst_array.max()}\")\n",
    "filtro1 = print(f\"Le vendite mensili maggiori di 4999 oggetti sono {lst_array [lst_array > 4999]}\")\n",
    "conteggio = print(f\"Il numero dei mesi in cui sono stati venduti più di 4999 oggetti è: {np.sum(lst_array > 4999)}\") \n",
    "filtro2 = print(f\"Le vendite minori di 300 oggetti sono: {lst_array [lst_array < 3000]}\")\n",
    "media = print(f\"La media degli oggetti venduti ogni mese è: {np.mean(lst_array)}\")"
   ]
  },
  {
   "cell_type": "markdown",
   "id": "9b74bc60-05d5-411f-a459-cdd8427d62c6",
   "metadata": {},
   "source": [
    "04. Consideriamo il seguente dizionario:\n",
    "fatturati_dict = {1997: 12_000, 1998: 15_000, 1999: 20_000, 2000: 23_000, 2001: 25_000, 2002: 17_000, 2003: 14_000, 2004: 21_000}\n",
    "\n",
    "Consideriamo ora la seguente Series:\n",
    "fatturati_series = pd.Series([12_000, 15_000, 20_000, 23_000, 25_000, 17_000, 14_000, 21_000],\n",
    "index=range(1997, 2005))\n",
    "\n",
    "Possiamo accedere alle stesse informazioni nello stesso modo:\n",
    "fatturati_dict[1997]\n",
    "fatturati_series[1997]\n",
    "Dunque qual è la differenza tra i due tipi di dato? \n",
    "• il risultato può sembrare simile ma con pandas abbiamo la possibilità di effettuare delle analisi o dei conteggi sui valori inseriti differenti e potenziati.\n",
    "Cosa potremmo fare con la Series che non possiamo fare con il dizionario? \n",
    "• per esempio possiamo effettuare i conteggi su tutti i valori contemporanemente oppure effettuare un filtraggio condizionale, fare indagini statistiche rapidamente, creare dataframe"
   ]
  },
  {
   "cell_type": "code",
   "execution_count": 78,
   "id": "0d9a4962-f9d2-4cf6-892a-bad6a328a1cd",
   "metadata": {},
   "outputs": [
    {
     "data": {
      "text/plain": [
       "{1997: 12000,\n",
       " 1998: 15000,\n",
       " 1999: 20000,\n",
       " 2000: 23000,\n",
       " 2001: 25000,\n",
       " 2002: 17000,\n",
       " 2003: 14000,\n",
       " 2004: 21000}"
      ]
     },
     "execution_count": 78,
     "metadata": {},
     "output_type": "execute_result"
    }
   ],
   "source": [
    "fatturati_dict = {1997: 12_000, 1998: 15_000, 1999: 20_000, 2000: 23_000, 2001: 25_000, 2002: 17_000, 2003: 14_000, 2004: 21_000}\n",
    "fatturati_dict"
   ]
  },
  {
   "cell_type": "code",
   "execution_count": 86,
   "id": "9b98c1c9-b231-4253-bfc6-0fac34e021a6",
   "metadata": {},
   "outputs": [
    {
     "data": {
      "text/plain": [
       "1997    12000\n",
       "1998    15000\n",
       "1999    20000\n",
       "2000    23000\n",
       "2001    25000\n",
       "2002    17000\n",
       "2003    14000\n",
       "2004    21000\n",
       "dtype: int64"
      ]
     },
     "execution_count": 86,
     "metadata": {},
     "output_type": "execute_result"
    }
   ],
   "source": [
    "import pandas as pd\n",
    "\n",
    "fatturati_series = pd.Series([12_000, 15_000, 20_000, 23_000, 25_000, 17_000, 14_000, 21_000],\n",
    "index=range(1997, 2005))\n",
    "fatturati_series"
   ]
  },
  {
   "cell_type": "markdown",
   "id": "a2e1f2a0-a038-430e-b308-98921c0d1846",
   "metadata": {},
   "source": [
    "05. L'azienda Object SpA ha un dataset con tutti gli stipendi dei dipendenti,\n",
    "memorizzato in un ndarray:\n",
    "import numpy as np\n",
    "stipendi = np.array( [100, 200, 300, 400, 500, 600, 700, 800, 900, 1000] )\n",
    "L'azienda ci chiede di raddoppiare tutti gli stipendi; facciamolo in due modi:\n",
    "• con un ciclo for\n",
    "• con il masking"
   ]
  },
  {
   "cell_type": "code",
   "execution_count": 99,
   "id": "b1aadeb2-c8f3-4c0b-85f9-db33389e241b",
   "metadata": {},
   "outputs": [
    {
     "name": "stdout",
     "output_type": "stream",
     "text": [
      "La lista degli stipendi aggiornati è la seguente: \n",
      " [200, 400, 600, 800, 1000, 1200, 1400, 1600, 1800, 2000]\n"
     ]
    }
   ],
   "source": [
    "# • con un ciclo for\n",
    "\n",
    "import numpy as np\n",
    "\n",
    "stipendi = np.array([100, 200, 300, 400, 500, 600, 700, 800, 900, 1000])\n",
    "stipendi_aggiornati = []\n",
    "for stipendio in stipendi:\n",
    "    stipendio_aggiornato = stipendio * 2\n",
    "    stipendi_aggiornati.append(stipendio_aggiornato)\n",
    "print(f\"La lista degli stipendi aggiornati è la seguente: \\n {stipendi_aggiornati}\")\n",
    "\n",
    "\n"
   ]
  },
  {
   "cell_type": "code",
   "execution_count": 103,
   "id": "b0236f49-f313-41a6-bb4d-a3d87a9675c9",
   "metadata": {},
   "outputs": [
    {
     "name": "stdout",
     "output_type": "stream",
     "text": [
      "La lista degli stipendi aggiornati è la seguente: \n",
      " [ 200  400  600  800 1000 1200 1400 1600 1800 2000]\n"
     ]
    }
   ],
   "source": [
    "# • con il masking\n",
    "import numpy as np\n",
    "\n",
    "stipendi = np.array([100, 200, 300, 400, 500, 600, 700, 800, 900, 1000])\n",
    "stipendi_aggiornati = stipendi * 2\n",
    "print(f\"La lista degli stipendi aggiornati è la seguente: \\n {stipendi_aggiornati}\")"
   ]
  },
  {
   "cell_type": "code",
   "execution_count": null,
   "id": "371ed7cc-f969-4cf2-a8d5-05826ea5d0d9",
   "metadata": {},
   "outputs": [],
   "source": []
  }
 ],
 "metadata": {
  "kernelspec": {
   "display_name": "Python 3 (ipykernel)",
   "language": "python",
   "name": "python3"
  },
  "language_info": {
   "codemirror_mode": {
    "name": "ipython",
    "version": 3
   },
   "file_extension": ".py",
   "mimetype": "text/x-python",
   "name": "python",
   "nbconvert_exporter": "python",
   "pygments_lexer": "ipython3",
   "version": "3.12.7"
  }
 },
 "nbformat": 4,
 "nbformat_minor": 5
}
