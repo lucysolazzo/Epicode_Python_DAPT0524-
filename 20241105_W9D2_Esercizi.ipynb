{
 "cells": [
  {
   "cell_type": "code",
   "execution_count": 1,
   "id": "1df3c318-d3a2-456b-a118-8a8dcd96c402",
   "metadata": {},
   "outputs": [],
   "source": [
    "# Abbiamo 25 studenti; memorizzare questo dato in una variabile."
   ]
  },
  {
   "cell_type": "code",
   "execution_count": 2,
   "id": "179d029a-3304-45da-a60d-5a497c1c0c83",
   "metadata": {},
   "outputs": [],
   "source": [
    "studenti = 25"
   ]
  },
  {
   "cell_type": "code",
   "execution_count": null,
   "id": "9ec0fd39-773e-4362-a235-fb4fa7052839",
   "metadata": {},
   "outputs": [],
   "source": []
  },
  {
   "cell_type": "code",
   "execution_count": 3,
   "id": "8d75b47b-86a6-4dc7-9e40-c7439865ad1b",
   "metadata": {},
   "outputs": [],
   "source": [
    "# Abbiamo 25 studenti; memorizzare questo dato in una variabile e stamparla a video."
   ]
  },
  {
   "cell_type": "code",
   "execution_count": 4,
   "id": "84dfb6fa-e462-4c2d-aae9-8178c1a68179",
   "metadata": {},
   "outputs": [
    {
     "name": "stdout",
     "output_type": "stream",
     "text": [
      "25\n"
     ]
    }
   ],
   "source": [
    "print(studenti)"
   ]
  },
  {
   "cell_type": "code",
   "execution_count": null,
   "id": "4a8956ce-7ef7-4f5e-afd8-ecf1dedc1db3",
   "metadata": {},
   "outputs": [],
   "source": []
  },
  {
   "cell_type": "code",
   "execution_count": 5,
   "id": "8a9b8857-0382-4051-aff8-df98d8fa2b62",
   "metadata": {},
   "outputs": [],
   "source": [
    "# Abbiamo 25 studenti; memorizzare questo dato in una variabile. Arrivano altri 3 studenti; memorizzare questo dato in un'altra variabile."
   ]
  },
  {
   "cell_type": "code",
   "execution_count": 6,
   "id": "73a10689-d870-4aa4-8b7e-1feb6a05832e",
   "metadata": {},
   "outputs": [],
   "source": [
    "studenti_nuovi = 3"
   ]
  },
  {
   "cell_type": "code",
   "execution_count": 7,
   "id": "c8e0e228-8a61-4af7-9f85-69c27ee2e527",
   "metadata": {},
   "outputs": [
    {
     "name": "stdout",
     "output_type": "stream",
     "text": [
      "28\n"
     ]
    }
   ],
   "source": [
    "print(studenti + studenti_nuovi)"
   ]
  },
  {
   "cell_type": "code",
   "execution_count": null,
   "id": "8aa5e0b1-ec64-410d-8519-25bd52cd9cc1",
   "metadata": {},
   "outputs": [],
   "source": []
  },
  {
   "cell_type": "code",
   "execution_count": 8,
   "id": "e2bef126-53fc-43d7-bf3e-6a744f510b2d",
   "metadata": {},
   "outputs": [],
   "source": [
    "# Creare una variabile che contiene la stringa \"Epicode\", quindi stamparla a video."
   ]
  },
  {
   "cell_type": "code",
   "execution_count": 9,
   "id": "22723757-4eae-4d9c-b22f-70925bedefc0",
   "metadata": {},
   "outputs": [],
   "source": [
    "nomescuola = 'Epicode'"
   ]
  },
  {
   "cell_type": "code",
   "execution_count": 10,
   "id": "8876fc1f-446e-4929-a447-bc50243f574c",
   "metadata": {},
   "outputs": [
    {
     "name": "stdout",
     "output_type": "stream",
     "text": [
      "Epicode\n"
     ]
    }
   ],
   "source": [
    "print(nomescuola)"
   ]
  },
  {
   "cell_type": "code",
   "execution_count": null,
   "id": "323f4a8a-c999-4996-9124-2cfbad6e9ebb",
   "metadata": {},
   "outputs": [],
   "source": []
  },
  {
   "cell_type": "code",
   "execution_count": 11,
   "id": "35807b20-72af-47a2-b0b8-32098d43ac84",
   "metadata": {},
   "outputs": [],
   "source": [
    "# Abbiamo la variabile: x = 10 Incrementarla di 2 e poi moltiplicarla per 3 \n",
    "# Usare due metodi diversi (ad esempio, uno utilizzando gli operatori di assegnazione, e uno senza)"
   ]
  },
  {
   "cell_type": "code",
   "execution_count": 12,
   "id": "7adfc7cf-e1a2-4cd0-b08d-1354272ade8e",
   "metadata": {},
   "outputs": [],
   "source": [
    "# 1° Metodo"
   ]
  },
  {
   "cell_type": "code",
   "execution_count": 13,
   "id": "49ae635d-cdb5-45ba-b9f6-bff7c0376a55",
   "metadata": {},
   "outputs": [],
   "source": [
    "x = 10"
   ]
  },
  {
   "cell_type": "code",
   "execution_count": 14,
   "id": "c44d5dac-3aab-4299-aad5-011b5e9b4ee3",
   "metadata": {},
   "outputs": [],
   "source": [
    "x = x + 2"
   ]
  },
  {
   "cell_type": "code",
   "execution_count": 15,
   "id": "f78725c7-5126-4e1a-9fe9-43b670ce7bb4",
   "metadata": {},
   "outputs": [],
   "source": [
    "x = x * 3"
   ]
  },
  {
   "cell_type": "code",
   "execution_count": 16,
   "id": "bc885f4e-c1d9-4385-bef3-cefb0d1b78b5",
   "metadata": {},
   "outputs": [
    {
     "data": {
      "text/plain": [
       "36"
      ]
     },
     "execution_count": 16,
     "metadata": {},
     "output_type": "execute_result"
    }
   ],
   "source": [
    "x"
   ]
  },
  {
   "cell_type": "code",
   "execution_count": 17,
   "id": "d1b27b35-b210-42e6-919a-21e43e49f8d5",
   "metadata": {},
   "outputs": [],
   "source": [
    "# 2° metodo"
   ]
  },
  {
   "cell_type": "code",
   "execution_count": 18,
   "id": "9b950640-bd4e-4704-8bf0-3afe9d61912b",
   "metadata": {},
   "outputs": [],
   "source": [
    "x = 10"
   ]
  },
  {
   "cell_type": "code",
   "execution_count": 19,
   "id": "ffedb8cb-3a29-4be5-862c-3ec2f5958612",
   "metadata": {},
   "outputs": [],
   "source": [
    "x += 2"
   ]
  },
  {
   "cell_type": "code",
   "execution_count": 20,
   "id": "fc1223bd-2ebe-4df4-b3d6-52193b1c86c4",
   "metadata": {},
   "outputs": [],
   "source": [
    "x *= 3 "
   ]
  },
  {
   "cell_type": "code",
   "execution_count": 21,
   "id": "a5d807b0-1196-4f05-9d02-745023ab0f4d",
   "metadata": {},
   "outputs": [
    {
     "data": {
      "text/plain": [
       "36"
      ]
     },
     "execution_count": 21,
     "metadata": {},
     "output_type": "execute_result"
    }
   ],
   "source": [
    "x"
   ]
  },
  {
   "cell_type": "code",
   "execution_count": null,
   "id": "4706b5b3-a05b-42f1-9918-5a6b12d9743b",
   "metadata": {},
   "outputs": [],
   "source": []
  },
  {
   "cell_type": "code",
   "execution_count": 22,
   "id": "1bb09885-9499-4d26-83cc-edc765951a42",
   "metadata": {},
   "outputs": [],
   "source": [
    "# Verificare, per ognuna delle seguenti stringhe, se il numero di caratteri è compreso tra 5 e 8:"
   ]
  },
  {
   "cell_type": "code",
   "execution_count": 23,
   "id": "9f5f39ef-4468-424e-8d31-f9b158531ccd",
   "metadata": {},
   "outputs": [],
   "source": [
    "str1 = 'Windows'"
   ]
  },
  {
   "cell_type": "code",
   "execution_count": 24,
   "id": "fd839360-3b9f-4036-ae24-d5db699a758a",
   "metadata": {},
   "outputs": [],
   "source": [
    "str2 = 'Excel'"
   ]
  },
  {
   "cell_type": "code",
   "execution_count": 25,
   "id": "42f4784e-c204-4c1b-b122-a66ff06d510c",
   "metadata": {},
   "outputs": [],
   "source": [
    "str3 = 'PowerPoint'"
   ]
  },
  {
   "cell_type": "code",
   "execution_count": 26,
   "id": "b46df6d2-b159-45a7-97bb-d526ede4481c",
   "metadata": {},
   "outputs": [],
   "source": [
    "str4 = 'Word'"
   ]
  },
  {
   "cell_type": "code",
   "execution_count": 27,
   "id": "c7a7336d-2db8-429d-b516-6be329f111c0",
   "metadata": {},
   "outputs": [],
   "source": [
    "min_len = 5\n",
    "max_len = 8"
   ]
  },
  {
   "cell_type": "code",
   "execution_count": 28,
   "id": "f8451648-c515-4864-8acf-488f9f944353",
   "metadata": {},
   "outputs": [],
   "source": [
    "# stringa 1"
   ]
  },
  {
   "cell_type": "code",
   "execution_count": 29,
   "id": "2ad9223c-dfc0-4932-81dd-b2589b84f7ed",
   "metadata": {},
   "outputs": [],
   "source": [
    "risultato = min_len <= len(str1) <= max_len"
   ]
  },
  {
   "cell_type": "code",
   "execution_count": 30,
   "id": "d65f51d0-9e90-44fb-96fb-7c9b9adac701",
   "metadata": {},
   "outputs": [
    {
     "name": "stdout",
     "output_type": "stream",
     "text": [
      "True\n"
     ]
    }
   ],
   "source": [
    "print(risultato)"
   ]
  },
  {
   "cell_type": "code",
   "execution_count": 31,
   "id": "49bdd8d1-7679-47eb-ab33-3b1606c5a2d4",
   "metadata": {},
   "outputs": [],
   "source": [
    "# stringa 2"
   ]
  },
  {
   "cell_type": "code",
   "execution_count": 32,
   "id": "9097e65f-79b6-4749-9091-e93495242be3",
   "metadata": {},
   "outputs": [],
   "source": [
    "risultato = min_len <= len(str2) <= max_len"
   ]
  },
  {
   "cell_type": "code",
   "execution_count": 33,
   "id": "08fbdbb6-50dc-4280-ab6c-2a6e9b3155bf",
   "metadata": {},
   "outputs": [
    {
     "name": "stdout",
     "output_type": "stream",
     "text": [
      "True\n"
     ]
    }
   ],
   "source": [
    "print(risultato)"
   ]
  },
  {
   "cell_type": "code",
   "execution_count": 34,
   "id": "211ab54e-51f1-4ad0-8ca1-b6162f1833e6",
   "metadata": {},
   "outputs": [],
   "source": [
    "# stringa 3"
   ]
  },
  {
   "cell_type": "code",
   "execution_count": 35,
   "id": "114c238c-7143-45af-8a2c-6be0ce7bbc1c",
   "metadata": {},
   "outputs": [],
   "source": [
    "risultato = min_len <= len(str3) <= max_len"
   ]
  },
  {
   "cell_type": "code",
   "execution_count": 36,
   "id": "c181c533-bcb5-4c99-8e93-131a7d954a06",
   "metadata": {},
   "outputs": [
    {
     "name": "stdout",
     "output_type": "stream",
     "text": [
      "False\n"
     ]
    }
   ],
   "source": [
    "print(risultato)"
   ]
  },
  {
   "cell_type": "code",
   "execution_count": 37,
   "id": "56804ff3-91bf-416c-93ad-15b28e97e3e7",
   "metadata": {},
   "outputs": [],
   "source": [
    "# stringa 4"
   ]
  },
  {
   "cell_type": "code",
   "execution_count": 38,
   "id": "8238ca46-9833-4b33-9206-bee53c13fd58",
   "metadata": {},
   "outputs": [],
   "source": [
    "risultato = min_len <= len(str4) <= max_len"
   ]
  },
  {
   "cell_type": "code",
   "execution_count": 39,
   "id": "d0c075bd-6281-4ff9-93c5-6d82b94e5289",
   "metadata": {},
   "outputs": [
    {
     "name": "stdout",
     "output_type": "stream",
     "text": [
      "False\n"
     ]
    }
   ],
   "source": [
    "print(risultato)"
   ]
  },
  {
   "cell_type": "code",
   "execution_count": null,
   "id": "0c6d6d4d-8b88-422d-bd8f-f65214e8878c",
   "metadata": {},
   "outputs": [],
   "source": []
  },
  {
   "cell_type": "code",
   "execution_count": 40,
   "id": "c4737e86-15ef-4305-b44a-9a5b8926e164",
   "metadata": {},
   "outputs": [],
   "source": [
    "# Calcolare e stampare a video quanti secondi ci sono in un anno non bisestile."
   ]
  },
  {
   "cell_type": "code",
   "execution_count": 41,
   "id": "03d62a43-7920-4387-a1f6-8aec0a668eea",
   "metadata": {},
   "outputs": [],
   "source": [
    "secondi_anno = 60 * 60 * 24 * 365"
   ]
  },
  {
   "cell_type": "code",
   "execution_count": 42,
   "id": "300a6417-b70c-4d21-8857-65f50d1c72ae",
   "metadata": {},
   "outputs": [
    {
     "name": "stdout",
     "output_type": "stream",
     "text": [
      "31536000\n"
     ]
    }
   ],
   "source": [
    "print(secondi_anno)"
   ]
  },
  {
   "cell_type": "code",
   "execution_count": null,
   "id": "965521c3-1952-4746-9bf7-f40bb0b854be",
   "metadata": {},
   "outputs": [],
   "source": []
  },
  {
   "cell_type": "code",
   "execution_count": 43,
   "id": "889b0784-57e6-4af3-8bb5-8ac5a9fc9d1f",
   "metadata": {},
   "outputs": [],
   "source": [
    "# Esercizio Abbiamo la seguente stringa: my_string = \"I am studying Python\" \n",
    "# Trasformarla in modo che tutti i caratteri siano maiuscoli (uppercase) \n",
    "# Trasformarla in modo che tutti i caratteri siano minuscoli (lowercase) \n",
    "# Sostituire la sottostringa \"Python\" con la stringa \"a lot\" \n",
    "# Usare il metodo .strip(); cambia qualcosa? Perché?"
   ]
  },
  {
   "cell_type": "code",
   "execution_count": 44,
   "id": "f551cd36-0b14-4c79-a2d7-23dbf8833e6e",
   "metadata": {},
   "outputs": [],
   "source": [
    "my_string = 'I am studying Python'"
   ]
  },
  {
   "cell_type": "code",
   "execution_count": 45,
   "id": "2ecf21bf-d592-48d1-8fe9-c3ee6fe2eead",
   "metadata": {},
   "outputs": [
    {
     "data": {
      "text/plain": [
       "'I AM STUDYING PYTHON'"
      ]
     },
     "execution_count": 45,
     "metadata": {},
     "output_type": "execute_result"
    }
   ],
   "source": [
    "my_string.upper()"
   ]
  },
  {
   "cell_type": "code",
   "execution_count": 46,
   "id": "55c0a57c-bd10-4e6e-a7cd-8394107b0595",
   "metadata": {},
   "outputs": [
    {
     "data": {
      "text/plain": [
       "'i am studying python'"
      ]
     },
     "execution_count": 46,
     "metadata": {},
     "output_type": "execute_result"
    }
   ],
   "source": [
    "my_string.lower()"
   ]
  },
  {
   "cell_type": "code",
   "execution_count": 47,
   "id": "e6f10bea-a1fa-44ea-bdb7-00fefc7fc352",
   "metadata": {},
   "outputs": [],
   "source": [
    "risultato = my_string.replace('Python', 'a lot')"
   ]
  },
  {
   "cell_type": "code",
   "execution_count": 48,
   "id": "e3124ca9-b44d-40a5-8944-7dcb68bcef6b",
   "metadata": {},
   "outputs": [
    {
     "name": "stdout",
     "output_type": "stream",
     "text": [
      "I am studying a lot\n"
     ]
    }
   ],
   "source": [
    "print(risultato)"
   ]
  },
  {
   "cell_type": "code",
   "execution_count": 49,
   "id": "c7cf3ca2-ab13-41bf-b1b5-476b29a3cf86",
   "metadata": {},
   "outputs": [
    {
     "data": {
      "text/plain": [
       "'I am studying a lot'"
      ]
     },
     "execution_count": 49,
     "metadata": {},
     "output_type": "execute_result"
    }
   ],
   "source": [
    "risultato.strip()"
   ]
  },
  {
   "cell_type": "code",
   "execution_count": null,
   "id": "cc9d8db1-2ed7-409f-b7d3-d0cb6417dcc4",
   "metadata": {},
   "outputs": [],
   "source": []
  }
 ],
 "metadata": {
  "kernelspec": {
   "display_name": "Python 3 (ipykernel)",
   "language": "python",
   "name": "python3"
  },
  "language_info": {
   "codemirror_mode": {
    "name": "ipython",
    "version": 3
   },
   "file_extension": ".py",
   "mimetype": "text/x-python",
   "name": "python",
   "nbconvert_exporter": "python",
   "pygments_lexer": "ipython3",
   "version": "3.12.7"
  }
 },
 "nbformat": 4,
 "nbformat_minor": 5
}
