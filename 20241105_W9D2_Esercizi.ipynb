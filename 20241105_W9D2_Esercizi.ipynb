{
 "cells": [
  {
   "cell_type": "code",
   "execution_count": 25,
   "id": "1df3c318-d3a2-456b-a118-8a8dcd96c402",
   "metadata": {},
   "outputs": [],
   "source": [
    "# Abbiamo 25 studenti; memorizzare questo dato in una variabile.\n",
    "studenti = 25"
   ]
  },
  {
   "cell_type": "code",
   "execution_count": 26,
   "id": "84dfb6fa-e462-4c2d-aae9-8178c1a68179",
   "metadata": {},
   "outputs": [
    {
     "name": "stdout",
     "output_type": "stream",
     "text": [
      "25\n"
     ]
    }
   ],
   "source": [
    "# Abbiamo 25 studenti; memorizzare questo dato in una variabile e stamparla a video.\n",
    "print(studenti)"
   ]
  },
  {
   "cell_type": "code",
   "execution_count": 27,
   "id": "73a10689-d870-4aa4-8b7e-1feb6a05832e",
   "metadata": {},
   "outputs": [
    {
     "name": "stdout",
     "output_type": "stream",
     "text": [
      "28\n"
     ]
    }
   ],
   "source": [
    "# Abbiamo 25 studenti; memorizzare questo dato in una variabile. Arrivano altri 3 studenti; memorizzare questo dato in un'altra variabile.\n",
    "studenti_nuovi = 3\n",
    "print(studenti + studenti_nuovi)"
   ]
  },
  {
   "cell_type": "code",
   "execution_count": 28,
   "id": "22723757-4eae-4d9c-b22f-70925bedefc0",
   "metadata": {},
   "outputs": [
    {
     "name": "stdout",
     "output_type": "stream",
     "text": [
      "Epicode\n"
     ]
    }
   ],
   "source": [
    "# Creare una variabile che contiene la stringa \"Epicode\", quindi stamparla a video.\n",
    "nomescuola = 'Epicode'\n",
    "print(nomescuola)"
   ]
  },
  {
   "cell_type": "code",
   "execution_count": 29,
   "id": "49ae635d-cdb5-45ba-b9f6-bff7c0376a55",
   "metadata": {},
   "outputs": [
    {
     "data": {
      "text/plain": [
       "36"
      ]
     },
     "execution_count": 29,
     "metadata": {},
     "output_type": "execute_result"
    }
   ],
   "source": [
    "# Abbiamo la variabile: x = 10 Incrementarla di 2 e poi moltiplicarla per 3 \n",
    "# Usare due metodi diversi (ad esempio, uno utilizzando gli operatori di assegnazione, e uno senza)\n",
    "# 1° Metodo\n",
    "x = 10\n",
    "x = x + 2\n",
    "x = x * 3\n",
    "x"
   ]
  },
  {
   "cell_type": "code",
   "execution_count": 30,
   "id": "9b950640-bd4e-4704-8bf0-3afe9d61912b",
   "metadata": {},
   "outputs": [
    {
     "data": {
      "text/plain": [
       "36"
      ]
     },
     "execution_count": 30,
     "metadata": {},
     "output_type": "execute_result"
    }
   ],
   "source": [
    "# 2° metodo\n",
    "x = 10\n",
    "x += 2\n",
    "x *= 3 \n",
    "x"
   ]
  },
  {
   "cell_type": "code",
   "execution_count": 31,
   "id": "9f5f39ef-4468-424e-8d31-f9b158531ccd",
   "metadata": {},
   "outputs": [
    {
     "name": "stdout",
     "output_type": "stream",
     "text": [
      "True\n"
     ]
    }
   ],
   "source": [
    "# Verificare, per ognuna delle seguenti stringhe, se il numero di caratteri è compreso tra 5 e 8:\n",
    "# 1° Metodo\n",
    "str1 = 'Windows'\n",
    "str2 = 'Excel'\n",
    "str3 = 'PowerPoint'\n",
    "str4 = 'Word'\n",
    "min_len = 5\n",
    "max_len = 8\n",
    "# stringa 1\n",
    "risultato = min_len <= len(str1) <= max_len\n",
    "print(risultato)"
   ]
  },
  {
   "cell_type": "code",
   "execution_count": 32,
   "id": "49bdd8d1-7679-47eb-ab33-3b1606c5a2d4",
   "metadata": {},
   "outputs": [
    {
     "name": "stdout",
     "output_type": "stream",
     "text": [
      "True\n"
     ]
    }
   ],
   "source": [
    "# stringa 2\n",
    "risultato = min_len <= len(str2) <= max_len\n",
    "print(risultato)"
   ]
  },
  {
   "cell_type": "code",
   "execution_count": 33,
   "id": "211ab54e-51f1-4ad0-8ca1-b6162f1833e6",
   "metadata": {},
   "outputs": [
    {
     "name": "stdout",
     "output_type": "stream",
     "text": [
      "False\n"
     ]
    }
   ],
   "source": [
    "# stringa 3\n",
    "risultato = min_len <= len(str3) <= max_len\n",
    "print(risultato)"
   ]
  },
  {
   "cell_type": "code",
   "execution_count": 34,
   "id": "56804ff3-91bf-416c-93ad-15b28e97e3e7",
   "metadata": {},
   "outputs": [
    {
     "name": "stdout",
     "output_type": "stream",
     "text": [
      "False\n"
     ]
    }
   ],
   "source": [
    "# stringa 4\n",
    "risultato = min_len <= len(str4) <= max_len\n",
    "print(risultato)"
   ]
  },
  {
   "cell_type": "code",
   "execution_count": 42,
   "id": "f6c448c3-1068-4eaf-bc0f-67ccf69b58b5",
   "metadata": {},
   "outputs": [
    {
     "name": "stdout",
     "output_type": "stream",
     "text": [
      "Windows: ha una lunghezza compresa tra 5 e 8 caratteri\n",
      "Excel: ha una lunghezza compresa tra 5 e 8 caratteri\n",
      "PowerPoint: NON ha una lunghezza compresa tra 5 e 8 caratteri\n",
      "Word: NON ha una lunghezza compresa tra 5 e 8 caratteri\n"
     ]
    }
   ],
   "source": [
    "# Metodo 2\n",
    "str1 = 'Windows'\n",
    "str2 = 'Excel'\n",
    "str3 = 'PowerPoint'\n",
    "str4 = 'Word'\n",
    "min_len = 5\n",
    "max_len = 8\n",
    "software = [str1, str2, str3, str4]\n",
    "for name in (software):\n",
    "    if min_len <= len(name) <= max_len:\n",
    "        print(f'{name}: ha una lunghezza compresa tra 5 e 8 caratteri')\n",
    "    else:\n",
    "        print(f'{name}: NON ha una lunghezza compresa tra 5 e 8 caratteri')    "
   ]
  },
  {
   "cell_type": "code",
   "execution_count": 35,
   "id": "c4737e86-15ef-4305-b44a-9a5b8926e164",
   "metadata": {},
   "outputs": [
    {
     "name": "stdout",
     "output_type": "stream",
     "text": [
      "31536000\n"
     ]
    }
   ],
   "source": [
    "# Calcolare e stampare a video quanti secondi ci sono in un anno non bisestile.\n",
    "# metodo 1\n",
    "secondi_anno = 60 * 60 * 24 * 365\n",
    "print(secondi_anno)"
   ]
  },
  {
   "cell_type": "code",
   "execution_count": 36,
   "id": "cfa60a5b-827b-42b3-988d-99e3c77545c3",
   "metadata": {},
   "outputs": [
    {
     "name": "stdout",
     "output_type": "stream",
     "text": [
      "in un anno ci sono 31536000 secondi\n"
     ]
    }
   ],
   "source": [
    "# metodo2\n",
    "seconds_x_minute = 60\n",
    "minutes_x_hour = 60\n",
    "hours_x_day = 24\n",
    "day_x_year = 365\n",
    "seconds_per_year = seconds_x_minute * minutes_x_hour * hours_x_day * day_x_year\n",
    "print('in un anno ci sono', seconds_per_year, 'secondi')"
   ]
  },
  {
   "cell_type": "code",
   "execution_count": 37,
   "id": "889b0784-57e6-4af3-8bb5-8ac5a9fc9d1f",
   "metadata": {},
   "outputs": [],
   "source": [
    "# Esercizio Abbiamo la seguente stringa: my_string = \"I am studying Python\" \n",
    "# Trasformarla in modo che tutti i caratteri siano maiuscoli (uppercase) \n",
    "# Trasformarla in modo che tutti i caratteri siano minuscoli (lowercase) \n",
    "# Sostituire la sottostringa \"Python\" con la stringa \"a lot\" \n",
    "# Usare il metodo .strip(); cambia qualcosa? Perché?\n",
    "my_string = '    I am studying Python'"
   ]
  },
  {
   "cell_type": "code",
   "execution_count": 38,
   "id": "019944f0-0655-4cc9-99fc-9126793f5a6e",
   "metadata": {},
   "outputs": [
    {
     "data": {
      "text/plain": [
       "'    I AM STUDYING PYTHON'"
      ]
     },
     "execution_count": 38,
     "metadata": {},
     "output_type": "execute_result"
    }
   ],
   "source": [
    "my_string.upper()"
   ]
  },
  {
   "cell_type": "code",
   "execution_count": 39,
   "id": "f274ea6b-8b05-4400-a3e0-2cf66884e0d2",
   "metadata": {},
   "outputs": [
    {
     "data": {
      "text/plain": [
       "'    i am studying python'"
      ]
     },
     "execution_count": 39,
     "metadata": {},
     "output_type": "execute_result"
    }
   ],
   "source": [
    "my_string.lower()"
   ]
  },
  {
   "cell_type": "code",
   "execution_count": 40,
   "id": "d913fcca-91bb-44f0-98e3-6a14ce20d2cd",
   "metadata": {},
   "outputs": [
    {
     "name": "stdout",
     "output_type": "stream",
     "text": [
      "    I am studying a lot\n"
     ]
    }
   ],
   "source": [
    "risultato = my_string.replace('Python', 'a lot')\n",
    "print(risultato)"
   ]
  },
  {
   "cell_type": "code",
   "execution_count": 41,
   "id": "2f9206a4-0eed-4b26-a7c1-bf43c6908bcb",
   "metadata": {},
   "outputs": [
    {
     "data": {
      "text/plain": [
       "'I am studying a lot'"
      ]
     },
     "execution_count": 41,
     "metadata": {},
     "output_type": "execute_result"
    }
   ],
   "source": [
    "risultato.strip()"
   ]
  }
 ],
 "metadata": {
  "kernelspec": {
   "display_name": "Python 3 (ipykernel)",
   "language": "python",
   "name": "python3"
  },
  "language_info": {
   "codemirror_mode": {
    "name": "ipython",
    "version": 3
   },
   "file_extension": ".py",
   "mimetype": "text/x-python",
   "name": "python",
   "nbconvert_exporter": "python",
   "pygments_lexer": "ipython3",
   "version": "3.12.7"
  }
 },
 "nbformat": 4,
 "nbformat_minor": 5
}
