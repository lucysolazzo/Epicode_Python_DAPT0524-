{
 "cells": [
  {
   "cell_type": "code",
   "execution_count": 1,
   "id": "e5d926ca-d58f-4860-b01f-f320592ed332",
   "metadata": {},
   "outputs": [],
   "source": [
    "# Teaching Assistant 08-11-2024"
   ]
  },
  {
   "cell_type": "code",
   "execution_count": 2,
   "id": "351b59fc-945e-464c-b296-3a395ae643ee",
   "metadata": {},
   "outputs": [
    {
     "name": "stdout",
     "output_type": "stream",
     "text": [
      "E\n",
      "p\n",
      "i\n",
      "c\n",
      "o\n",
      "d\n",
      "e\n"
     ]
    }
   ],
   "source": [
    "# 1. Esercizio Abbiamo la stringa: \n",
    "# nome_scuola = \"Epicode\" \n",
    "# Stampare ogni carattere della stringa, uno su ogni riga, utilizzando un costrutto while.\n",
    "\n",
    "nome_scuola = \"Epicode\"\n",
    "indice = 0 # a partire da 0, finchè l'indice ha un valore inferiore alla lunghezza della variabile stamperà la lettera corrispondente\n",
    "lungh_stringa = len(nome_scuola)\n",
    "while indice < lungh_stringa:\n",
    "    # lettera = nome_scuola[indice]\n",
    "    print (nome_scuola[indice]) # scrivendo l'indice tra le [] possiamo evitare di scrivere la riga precedente\n",
    "    indice = indice + 1"
   ]
  },
  {
   "cell_type": "code",
   "execution_count": 3,
   "id": "8d24baeb-c2a8-4e83-9b86-3a46c0a58636",
   "metadata": {},
   "outputs": [
    {
     "name": "stdout",
     "output_type": "stream",
     "text": [
      "L'elenco di numeri da visualizzare è il seguente:\n",
      "0\n",
      "1\n",
      "2\n",
      "3\n",
      "4\n",
      "5\n",
      "6\n",
      "7\n",
      "8\n",
      "9\n",
      "10\n",
      "11\n",
      "12\n",
      "13\n",
      "14\n",
      "15\n",
      "16\n",
      "17\n",
      "18\n",
      "19\n",
      "20\n"
     ]
    }
   ],
   "source": [
    "# 2. Stampare a video tutti i numeri da 0 a 20 utilizzando il costrutto while.\n",
    "# Utilizzeremo:\n",
    "# • un ciclo while\n",
    "# • la funzione print()\n",
    "# • una variabile, che dovrà essere inizializzata\n",
    "# • una procedura di incremento\n",
    "\n",
    "num_min = 0\n",
    "num_max = 20\n",
    "indice = 0\n",
    "print(\"L'elenco di numeri da visualizzare è il seguente:\")\n",
    "while num_min <= num_max: \n",
    "    indice = num_min\n",
    "    print(indice) # per partire da 0, devo necessariamente sottrarre 1 al primo calcolo e così via. Se faccio diversamente, trovo valori sbagliati o superiori al 20\n",
    "    num_min += 1"
   ]
  },
  {
   "cell_type": "code",
   "execution_count": 4,
   "id": "3632bf0f-34c7-4d20-b2f3-8c687ce484a8",
   "metadata": {},
   "outputs": [
    {
     "name": "stdout",
     "output_type": "stream",
     "text": [
      "La base 2 elevata a 0 è uguale a 1\n",
      "La base 2 elevata a 1 è uguale a 2\n",
      "La base 2 elevata a 2 è uguale a 4\n",
      "La base 2 elevata a 3 è uguale a 8\n",
      "La base 2 elevata a 4 è uguale a 16\n",
      "La base 2 elevata a 5 è uguale a 32\n",
      "La base 2 elevata a 6 è uguale a 64\n",
      "La base 2 elevata a 7 è uguale a 128\n",
      "La base 2 elevata a 8 è uguale a 256\n",
      "La base 2 elevata a 9 è uguale a 512\n",
      "La base 2 elevata a 10 è uguale a 1024\n"
     ]
    }
   ],
   "source": [
    "# 3. Calcolare e stampare tutte le prime 10 potenze di 2 (e.g., 2⁰, 2¹, 2², …) utilizzando un ciclo while.\n",
    "base = 2\n",
    "esp_min = 0\n",
    "esp_max = 10\n",
    "while esp_min <= esp_max:\n",
    "    risultato = base ** esp_min\n",
    "    print(f\"La base {base} elevata a {esp_min} è uguale a {risultato}\")\n",
    "    esp_min += 1"
   ]
  },
  {
   "cell_type": "code",
   "execution_count": 5,
   "id": "7551a055-279b-4344-be9b-89567ee6500e",
   "metadata": {},
   "outputs": [
    {
     "name": "stdin",
     "output_type": "stream",
     "text": [
      "Inserisci l'esponente (N): 5\n"
     ]
    },
    {
     "name": "stdout",
     "output_type": "stream",
     "text": [
      "Il numero 2 elevato a 0 è uguale a 1\n",
      "Il numero 2 elevato a 1 è uguale a 2\n",
      "Il numero 2 elevato a 2 è uguale a 4\n",
      "Il numero 2 elevato a 3 è uguale a 8\n",
      "Il numero 2 elevato a 4 è uguale a 16\n",
      "Il numero 2 elevato a 5 è uguale a 32\n"
     ]
    }
   ],
   "source": [
    "# 4.Calcolare e stampare tutte le prime N potenze di 2 utilizzando un ciclo while, domandando all'utente di inserire N.\n",
    "base = 2\n",
    "esp_min = 0\n",
    "N = int(input(\"Inserisci l'esponente (N):\"))\n",
    "if N < 0:\n",
    "    print(\"Il numero deve essere uguale o maggiore di 0. Fine del programma.\")\n",
    "else:\n",
    "    index= 0\n",
    "    while esp_min <= N:\n",
    "        risultato = base ** esp_min \n",
    "        print(f\"Il numero {base} elevato a {esp_min} è uguale a {risultato}\")\n",
    "        esp_min +=1\n",
    "              \n",
    "       "
   ]
  },
  {
   "cell_type": "code",
   "execution_count": 6,
   "id": "2ffbbd0d-9a9a-4c18-aaf9-7c07ee0e4f9e",
   "metadata": {},
   "outputs": [
    {
     "name": "stdout",
     "output_type": "stream",
     "text": [
      "A seguire tutte le potenze di 2 minori di 25000:\n",
      "La base 2 elevata a 0 è uguale a 1\n",
      "La base 2 elevata a 1 è uguale a 2\n",
      "La base 2 elevata a 2 è uguale a 4\n",
      "La base 2 elevata a 3 è uguale a 8\n",
      "La base 2 elevata a 4 è uguale a 16\n",
      "La base 2 elevata a 5 è uguale a 32\n",
      "La base 2 elevata a 6 è uguale a 64\n",
      "La base 2 elevata a 7 è uguale a 128\n",
      "La base 2 elevata a 8 è uguale a 256\n",
      "La base 2 elevata a 9 è uguale a 512\n",
      "La base 2 elevata a 10 è uguale a 1024\n",
      "La base 2 elevata a 11 è uguale a 2048\n",
      "La base 2 elevata a 12 è uguale a 4096\n",
      "La base 2 elevata a 13 è uguale a 8192\n",
      "La base 2 elevata a 14 è uguale a 16384\n",
      "Fine del programma\n"
     ]
    }
   ],
   "source": [
    "# 5. Calcolare e stampare tutte le potenze di 2 minori di 25000.\n",
    "\n",
    "base = 2\n",
    "esp_min = 0\n",
    "num_max = 25000\n",
    "print(\"A seguire tutte le potenze di 2 minori di 25000:\")\n",
    "while base ** esp_min < num_max: \n",
    "    print(f\"La base {base} elevata a {esp_min} è uguale a {base ** esp_min}\")\n",
    "    esp_min +=1 # incremento esponente\n",
    "    \n",
    "print(\"Fine del programma\")"
   ]
  },
  {
   "cell_type": "code",
   "execution_count": 7,
   "id": "916f3e91-e43a-4e42-9845-08a89d3ff708",
   "metadata": {},
   "outputs": [
    {
     "name": "stdout",
     "output_type": "stream",
     "text": [
      "['Cybersecurity', 'Data Analyst', 'Backend', 'Frontend', 'Data Analyst', 'Backend', 'Frontend', 'Cybersecurity']\n"
     ]
    }
   ],
   "source": [
    "# 6. Abbiamo due liste, una di studenti e una di corsi:\n",
    "# Aggiungere i dati mancanti alla lista corsi\n",
    "# Aggiungeremo i dati mancanti uno alla volta con il metodo per appendere in coda alle liste, \n",
    "# poi verificheremo che sono della stessa lunghezza e se lo sonostamperemo la lista corsi. \n",
    "# Se alcuni dati sono già presenti non vanno aggiunti di nuovo.\n",
    "\n",
    "studenti = [\"Alex\", \"Bob\", \"Cindy\", \"Dan\", \"Emma\", \"Faith\", \"Grace\", \"Henry\"]\n",
    "corsi = [\"Cybersecurity\", \"Data Analyst\", \"Backend\", \"Frontend\", \"Data Analyst\", \"Backend\"]\n",
    "corsi.append(\"Frontend\")\n",
    "corsi.append(\"Cybersecurity\") \n",
    "if len(studenti) == len(corsi):\n",
    "    print(corsi)\n",
    "else: print(\"Le liste hanno una lunghezza differente.\")"
   ]
  },
  {
   "cell_type": "code",
   "execution_count": 8,
   "id": "5003ca13-3707-44a7-a48c-d1add66db3af",
   "metadata": {},
   "outputs": [
    {
     "name": "stdin",
     "output_type": "stream",
     "text": [
      "La mia frase: no\n"
     ]
    },
    {
     "name": "stdout",
     "output_type": "stream",
     "text": [
      "La stringa è troppo corta.\n"
     ]
    }
   ],
   "source": [
    "# 7. Scriviamo un programma che chiede in input all'utente una stringa e visualizza i primi 3 caratteri, \n",
    "# seguiti da 3 punti di sospensione e quindi gli ultimi 3 caratteri, similmente all'esercizio della lezione scorsa.\n",
    "# Stavolta facciamo attenzione a tutti i casi particolari, ovvero implementare soluzioni ad hoc per stringhe di lunghezza inferiore a 6 caratteri.\n",
    "\n",
    "frase = input(\"La mia frase:\")\n",
    "estr1 = frase[:3]\n",
    "estr2 = frase[-3:]\n",
    "if len(frase) > 6:\n",
    "        print(f\"L'estrazione è la seguente: \\n {estr1}...{estr2}\")\n",
    "else:\n",
    "    print(f\"La stringa è troppo corta.\")\n",
    "    "
   ]
  },
  {
   "cell_type": "code",
   "execution_count": 27,
   "id": "1cdf948e-4b97-4550-bab0-17da20d2d967",
   "metadata": {},
   "outputs": [
    {
     "name": "stdin",
     "output_type": "stream",
     "text": [
      "Inserisci un numero intero (n):  352\n"
     ]
    },
    {
     "name": "stdout",
     "output_type": "stream",
     "text": [
      "I fattori primi che moltiplicati tra loro danno 352 sono: [2, 2, 2, 2, 2, 11]\n"
     ]
    }
   ],
   "source": [
    "# 8. Memorizza e stampa tutti i fattori di un numero dato in input.\n",
    "from sympy import factorint\n",
    "\n",
    "n = int(input(\"Inserisci un numero intero (n): \"))\n",
    "\n",
    "# Trova i fattori primi con le loro molteplicità\n",
    "fattori = factorint(n)\n",
    "\n",
    "# Costruisci la lista di fattori primi con le molteplicità\n",
    "fattori_primi = []\n",
    "for fattore, molteplicità in fattori.items():\n",
    "    fattori_primi.extend([fattore] * molteplicità)\n",
    "\n",
    "print(f\"I fattori primi che moltiplicati tra loro danno {n} sono i seguenti: {fattori_primi}\")\n"
   ]
  },
  {
   "cell_type": "code",
   "execution_count": 10,
   "id": "29dccdf3-75b9-436b-9e58-425376937b46",
   "metadata": {},
   "outputs": [
    {
     "name": "stdout",
     "output_type": "stream",
     "text": [
      "E\n",
      "p\n",
      "i\n",
      "c\n",
      "o\n",
      "d\n",
      "e\n"
     ]
    }
   ],
   "source": [
    "# 9. Abbiamo la stringa: nome_scuola = \"Epicode\"\n",
    "#Stampare ogni carattere della stringa, uno su ogni riga, utilizzando un costrutto for.\n",
    "\n",
    "nome_scuola = \"Epicode\"\n",
    "for lettera in nome_scuola:\n",
    "    print(lettera)"
   ]
  },
  {
   "cell_type": "code",
   "execution_count": 11,
   "id": "9ba94828-5a83-45b4-959c-853a9c2f701e",
   "metadata": {},
   "outputs": [
    {
     "name": "stdout",
     "output_type": "stream",
     "text": [
      "La base 2 elevata a 0 è uguale a 1\n",
      "La base 2 elevata a 1 è uguale a 2\n",
      "La base 2 elevata a 2 è uguale a 4\n",
      "La base 2 elevata a 3 è uguale a 8\n",
      "La base 2 elevata a 4 è uguale a 16\n",
      "La base 2 elevata a 5 è uguale a 32\n",
      "La base 2 elevata a 6 è uguale a 64\n",
      "La base 2 elevata a 7 è uguale a 128\n",
      "La base 2 elevata a 8 è uguale a 256\n",
      "La base 2 elevata a 9 è uguale a 512\n",
      "La base 2 elevata a 10 è uguale a 1024\n"
     ]
    }
   ],
   "source": [
    "# 10. Calcolare e stampare tutte le prime 10 potenze di 2 utilizzando un ciclo.\n",
    "base = 2\n",
    "potenze = [0, 1, 2, 3, 4, 5, 6, 7, 8, 9, 10]\n",
    "for potenza in potenze:\n",
    "    print(f\"La base {base} elevata a {potenza} è uguale a {base ** potenza}\")"
   ]
  },
  {
   "cell_type": "code",
   "execution_count": 2,
   "id": "95a03e69-bc53-4548-91e4-c417d5cf8ab2",
   "metadata": {},
   "outputs": [
    {
     "name": "stdin",
     "output_type": "stream",
     "text": [
      "Inserire il valore della base (K) 5\n",
      "Inserire il valore dell'esponente(N): 6\n"
     ]
    },
    {
     "name": "stdout",
     "output_type": "stream",
     "text": [
      "La lista delle prime N potenze di K è la seguente [1, 5, 25, 125, 625, 3125, 15625]\n"
     ]
    }
   ],
   "source": [
    "# 11. Calcolare (ma non stampare) le prime N potenze di K; ognuna di esse andrà memorizzata in coda a una lista. \n",
    "# Alla fine, stampare la lista risultante. Proviamo con diversi valori di K, oppure facciamola inserire all'utente.\n",
    "#Realizzare due versioni: \n",
    "\n",
    "# • con un ciclo while\n",
    "\n",
    "K = int(input(\"Inserire il valore della base (K)\"))\n",
    "N = int(input(\"Inserire il valore dell'esponente(N):\"))\n",
    "esp_min = 0\n",
    "risultati = []\n",
    "while esp_min <= N:\n",
    "    risultato = K ** esp_min\n",
    "    risultati.append(risultato)\n",
    "    esp_min += 1\n",
    "\n",
    "print(f\"La lista delle prime N potenze di K è la seguente {risultati}\")\n"
   ]
  },
  {
   "cell_type": "code",
   "execution_count": 6,
   "id": "7c0b5d48-a05d-432e-a626-a9ab2cd3783d",
   "metadata": {},
   "outputs": [
    {
     "name": "stdin",
     "output_type": "stream",
     "text": [
      "Inserire il valore della base (K) 5\n",
      "Inserire il valore dell'esponente(N): 5\n"
     ]
    },
    {
     "name": "stdout",
     "output_type": "stream",
     "text": [
      "La lista delle prime N potenze di K è la seguente [1, 5, 25, 125, 625, 3125]\n"
     ]
    }
   ],
   "source": [
    "# • con un ciclo for.\n",
    "\n",
    "k = int(input(\"Inserire il valore della base (K)\"))\n",
    "n = int(input(\"Inserire il valore dell'esponente(N):\"))\n",
    "esp_min = 0\n",
    "risultati = []\n",
    "for esp_min in range(0, n+1):\n",
    "    risultato = k ** esp_min\n",
    "    risultati.append(risultato)\n",
    "print(f\"La lista delle prime N potenze di K è la seguente {risultati}\")"
   ]
  },
  {
   "cell_type": "code",
   "execution_count": 24,
   "id": "1741c85b-b6f8-4717-b06a-3de14965937b",
   "metadata": {},
   "outputs": [
    {
     "name": "stdout",
     "output_type": "stream",
     "text": [
      "Il guadagno negli ultimi dodici mesi è: 840. La media è la seguente: 70.0\n",
      "Fine\n"
     ]
    }
   ],
   "source": [
    "# 12. Abbiamo una lista con i guadagni degli ultimi 12 mesi: \n",
    "# usando un costrutto for, calcolare la media dei guadagni e stamparla a video.\n",
    "\n",
    "guadagni = [100, 90, 70, 40, 50, 80, 90, 120, 80, 20, 50, 50]\n",
    "somma = 0\n",
    "# media_guadagni = []\n",
    "for guadagno in guadagni:\n",
    "    somma += guadagno\n",
    "    media_guadagni = somma / len(guadagni)\n",
    "\n",
    "print(f\"Il guadagno negli ultimi dodici mesi è: {somma}. La media è la seguente: {media_guadagni}\")\n",
    "print(\"Fine\")"
   ]
  },
  {
   "cell_type": "code",
   "execution_count": 37,
   "id": "b8a109fd-00ed-4686-a47a-2949c69c0457",
   "metadata": {},
   "outputs": [
    {
     "name": "stdout",
     "output_type": "stream",
     "text": [
      "La parola: Albergo contiene 0 E e 1 e. Totale: 1\n",
      "\n",
      "La parola: Sedia contiene 0 E e 1 e. Totale: 1\n",
      "\n",
      "La parola: Borgo contiene 0 E e 0 e. Totale: 0\n",
      "\n",
      "La parola: Petalo contiene 0 E e 1 e. Totale: 1\n",
      "\n",
      "La parola: Eremo contiene 1 E e 1 e. Totale: 2\n",
      "\n",
      "La parola: Belvedere contiene 0 E e 4 e. Totale: 4\n",
      "\n",
      "La parola: Semestre contiene 0 E e 3 e. Totale: 3\n",
      "\n",
      "La parola: Esteta contiene 1 E e 1 e. Totale: 2\n",
      "\n",
      "La parola: Sosta contiene 0 E e 0 e. Totale: 0\n",
      "\n",
      "La parola: Orpello contiene 0 E e 1 e. Totale: 1\n",
      "\n",
      "La parola: Abete contiene 0 E e 2 e. Totale: 2\n",
      "\n",
      "La parola: Orologio contiene 0 E e 0 e. Totale: 0\n",
      "\n",
      "La parola: Cesta contiene 0 E e 1 e. Totale: 1\n",
      "\n",
      "La parola: Ermellino contiene 1 E e 1 e. Totale: 2\n",
      "\n",
      "Fine\n"
     ]
    }
   ],
   "source": [
    "# 13. Abbiamo una lista di parole: stampiamo, per ogni parola, quante volte appare la lettera \"e\"; facciamo attenzione al fatto che appare sia maiuscola che minuscola.\n",
    "\n",
    "parole = [\"Albergo\", \"Sedia\", \"Borgo\", \"Petalo\", \"Eremo\", \"Belvedere\", \"Semestre\", \"Esteta\", \"Sosta\", \"Orpello\", \"Abete\", \"Orologio\", \"Cesta\", \"Ermellino\"]\n",
    "for parola in parole:\n",
    "    E = parola.count(\"E\")  \n",
    "    e = parola.count(\"e\")\n",
    "    print(f\"La parola: {parola} contiene {E} E maiuscola e {e} e minuscola. Totale: {E+e}\")\n",
    "    print(\"\")\n",
    "print(\"Fine\")"
   ]
  },
  {
   "cell_type": "code",
   "execution_count": 10,
   "id": "01f65041-4dbd-40fe-afa1-fbd9928dfca4",
   "metadata": {},
   "outputs": [
    {
     "name": "stdout",
     "output_type": "stream",
     "text": [
      "{'Ada': 'Punto', 'Ben': 'Multipla', 'Charlie': 'Golf', 'Debbie': '107'}\n",
      "107\n"
     ]
    }
   ],
   "source": [
    "# 14. Creiamo un dizionario che assegni ad ogni proprietario la sua auto, sapendo che:\n",
    "# • Ada guida una Punto\n",
    "# • Ben guida una Multipla\n",
    "# • Charlie guida una Golf\n",
    "# • Debbie guida una 107\n",
    "# Stampiamo il dizionario per intero, e poi l'auto associata a Debbie.\n",
    "\n",
    "dict_auto = {\"Ada\" : \"Punto\", \n",
    "             \"Ben\" : \"Multipla\", \n",
    "             \"Charlie\" : \"Golf\", \n",
    "             \"Debbie\" : \"107\"}\n",
    "print(dict_auto)\n",
    "\n",
    "if \"Debbie\" in dict_auto:\n",
    "    print(dict_auto[\"Debbie\"])\n",
    "else:\n",
    "    print(f\"Debbie non è nel dizionario\")\n"
   ]
  },
  {
   "cell_type": "code",
   "execution_count": 2,
   "id": "9b451191-ffae-4ba0-9f5f-51392b409e88",
   "metadata": {},
   "outputs": [
    {
     "name": "stdout",
     "output_type": "stream",
     "text": [
      "Punto\n",
      "Golf\n",
      "107\n"
     ]
    }
   ],
   "source": [
    "# 15. Abbiamo un dizionario che assegna ad ogni proprietario la sua auto. Con un ciclo, e usando il metodo .values(), stampiamo a video tutte le auto che non sono una Multipla. \n",
    "dizionario_auto = {\"Ada\": \"Punto\", \n",
    "                   \"Ben\": \"Multipla\",\n",
    "                   \"Charlie\": \"Golf\", \n",
    "                   \"Debbie\": \"107\"}\n",
    "for auto in dizionario_auto.values():\n",
    "    if auto != \"Multipla\":\n",
    "        print(auto)"
   ]
  },
  {
   "cell_type": "code",
   "execution_count": 14,
   "id": "629ec536-8e47-4098-aa5f-fbc715291c98",
   "metadata": {},
   "outputs": [
    {
     "name": "stdout",
     "output_type": "stream",
     "text": [
      "{'Ada': 'Punto', 'Ben': 'Polo', 'Charlie': 'Golf', 'Debbie': '107', 'Emily': 'A1', 'Fred': 'Octavia', 'Grace': 'Yaris', 'Hugh': 'Clio'}\n"
     ]
    }
   ],
   "source": [
    "# 16. Abbiamo due dizionari che assegnano ad ogni proprietario la propria auto. Aggiornare il dizionario dizionario_auto con i dati contenuti in nuovi_proprietari e stamparlo. Cosa è successo a Ben\n",
    "dizionario_auto = {\"Ada\": \"Punto\", \n",
    "                   \"Ben\": \"Multipla\", \n",
    "                   \"Charlie\": \"Golf\", \n",
    "                   \"Debbie\": \"107\", \n",
    "                   \"Emily\": \"A1\"}\n",
    "nuovi_proprietari = {\"Ben\": \"Polo\", \n",
    "                     \"Fred\": \"Octavia\",\n",
    "                     \"Grace\": \"Yaris\", \n",
    "                     \"Hugh\": \"Clio\"}\n",
    "dizionario_auto.update(nuovi_proprietari)\n",
    "\n",
    "print(dizionario_auto)"
   ]
  },
  {
   "cell_type": "code",
   "execution_count": 19,
   "id": "a440175a-dc22-4b55-a1c1-39f134af2b64",
   "metadata": {},
   "outputs": [
    {
     "name": "stdout",
     "output_type": "stream",
     "text": [
      "Il valore minimo è 12 e il valore massimo è 94\n"
     ]
    }
   ],
   "source": [
    "# 17. Scrivere un programma che, data una lista di numeri, fornisca in output il minimo e il massimo (possiamo usare o meno le funzioni built-in min() e max()).\n",
    "\n",
    "valori = [90, 26, 93, 83, 12, 41, 50, 73, 61, 72, 86, 33, 56, 94, 84]\n",
    "\n",
    "print(f\"Il valore minimo è {min(valori)} e il valore massimo è {max(valori)}\")\n",
    "\n"
   ]
  },
  {
   "cell_type": "code",
   "execution_count": 29,
   "id": "a60e8a05-9328-4bcf-8ebe-d31c6f348106",
   "metadata": {},
   "outputs": [
    {
     "name": "stdout",
     "output_type": "stream",
     "text": [
      "La lista ordinata è la seguente: [14, 16, 39, 47, 48, 48, 54, 55, 58, 61, 62, 92, 92, 92, 99]. I 3 numeri più grandi all'interno di questa lista sono i seguenti [92, 92, 99]\n"
     ]
    }
   ],
   "source": [
    "# 18. Scrivere un programma che, data una lista di numeri, fornisca in output i tre numeri più grandi; gestire il caso in cui la lista sia più corta di tre, e quando uno o più dei numeri selezionati sono uguali.\n",
    "lista = [62, 16, 14, 55, 92, 58, 99, 48, 92, 61, 39, 92, 47, 48, 54]\n",
    "lista.sort(key=None, reverse=False)\n",
    "for valore in lista:\n",
    "    if len(lista) <= 3:\n",
    "        print(\"La lista è troppo corta\")\n",
    "else: \n",
    "    print(f\"La lista ordinata è la seguente: {lista}. I 3 numeri più grandi all'interno di questa lista sono i seguenti {lista[-3:]}\")"
   ]
  },
  {
   "cell_type": "code",
   "execution_count": 39,
   "id": "0b86c724-b84d-4ae8-aa90-700a52c74692",
   "metadata": {},
   "outputs": [
    {
     "name": "stdin",
     "output_type": "stream",
     "text": [
      "Inserisci una lista di numero separata da spazi: 12 5 27 5\n",
      "Inserisci un numero (K): 5\n"
     ]
    },
    {
     "name": "stdout",
     "output_type": "stream",
     "text": [
      "La media è 12.25\n"
     ]
    }
   ],
   "source": [
    "# 19. Scrivere un programma che\n",
    "# • in input acquisisce una lista di numeri e un numero K\n",
    "# • in output, dovrà restituire la media di tutti i numeri nella lista maggiori o uguali a K\n",
    "# • se non ce ne dovesse essere nessuno, dovrà stampare a schermo un messaggio adeguato.\n",
    "input_lista = input(\"Inserisci una lista di numero separata da spazi:\")\n",
    "K = int(input(\"Inserisci un numero (K):\"))\n",
    "lista_num =[int(x) for x in input_lista.split()]\n",
    "somma =[]\n",
    "for x in lista_num:\n",
    "    if x >= K:\n",
    "        somma.append(x)\n",
    "if not somma:\n",
    "    print(\"La lista è vuota.\")\n",
    "else:\n",
    "    print(f\"La media è {sum(somma)/len(somma)}\")\n",
    "        \n"
   ]
  },
  {
   "cell_type": "code",
   "execution_count": 41,
   "id": "6bca2089-7dc2-4941-bcf6-2c73b5396db4",
   "metadata": {},
   "outputs": [
    {
     "name": "stdin",
     "output_type": "stream",
     "text": [
      "Inserisci una lista di numero separata da spazi: 15 2 13 5\n"
     ]
    },
    {
     "name": "stdout",
     "output_type": "stream",
     "text": [
      "***************\n",
      "**\n",
      "*************\n",
      "*****\n"
     ]
    }
   ],
   "source": [
    "# 20. Scrivere un programma che, data una lista di numeri, come output stamperà lo stesso numero di asterischi su righe diverse, ottenendo una semplice visualizzazione grafica\n",
    "\n",
    "input_lista = input(\"Inserisci una lista di numero separata da spazi:\")\n",
    "caratteri_num =[int(x) for x in input_lista.split()]\n",
    "for x in caratteri_num:\n",
    "    print(x*\"*\")"
   ]
  },
  {
   "cell_type": "code",
   "execution_count": 47,
   "id": "e454cfe4-fd28-4a46-9268-b98067ab57f1",
   "metadata": {},
   "outputs": [
    {
     "name": "stdout",
     "output_type": "stream",
     "text": [
      "I codici fiscali che contengono il 95 sono: ['ABCDEF95G01A123B', 'STUVWX95Z04A654E', 'DEFGHI95J06A987G']\n",
      "Questo è il GHI e il DEF del DEFGHI95J06A987G.\n"
     ]
    }
   ],
   "source": [
    "# 21. Abbiamo una lista di codici fiscali:\n",
    "# • trovare i codici fiscali che contengono \"95\", metterli in una lista, e alla fine stamparla;\n",
    "# • inoltre, per ognuno di essi, stampare a video i caratteri relativi al nome e quelli relativi al cognome.\n",
    "\n",
    "lista_cf = [\"ABCDEF95G01A123B\", \n",
    "            \"GHIJKL91M02A321C\",\n",
    "            \"MNOPQR89S03A456D\", \n",
    "            \"STUVWX95Z04A654E\", \n",
    "            \"XYZABC01D05A789F\",\n",
    "            \"DEFGHI95J06A987G\"]\n",
    "cf_95 = []\n",
    "for codicefiscale in lista_cf:\n",
    "        if \"95\" in codicefiscale:\n",
    "            cf_95.append(codicefiscale)\n",
    "print(f\"I codici fiscali che contengono il 95 sono: {cf_95}\")\n",
    "\n",
    "for codicefiscale in cf_95:\n",
    "    cognome = codicefiscale[:3]\n",
    "    nome = codicefiscale[3:6]\n",
    "print(f\"Questo è il {nome} e il {cognome} del {codicefiscale}.\")"
   ]
  },
  {
   "cell_type": "code",
   "execution_count": 75,
   "id": "93e8ef8c-34e4-4b9c-a679-6c5f537b9f99",
   "metadata": {},
   "outputs": [
    {
     "name": "stdout",
     "output_type": "stream",
     "text": [
      "Gli studenti che hanno frequentato una prima edizione sono:\n",
      "Alex\n",
      "Faith\n"
     ]
    }
   ],
   "source": [
    "# 22. Abbiamo tre liste della stessa lunghezza, dove ogni elemento nella medesima posizione si riferisce ai dati dello stesso studente:\n",
    "# • Stampare a video tutti e soli gli studenti che frequentano una prima edizione; non tutti i dati potrebbero essere necessari.\n",
    "# • Riuscite a vedere una similarità con la logica che si usa in SQL e le tabelle relazionali?\n",
    "\n",
    "studenti = [\"Alex\", \"Bob\", \"Cindy\", \"Dan\", \"Emma\", \"Faith\", \"Grace\", \"Henry\"]\n",
    "corsi = [\"Cybersecurity\", \"Data Analyst\", \"Backend\", \"Frontend\", \"Data Analyst\", \"Backend\", \"Frontend\", \"Cybersecurity\"]\n",
    "edizioni = [1, 2, 3, 2, 2, 1, 3, 3]\n",
    "\n",
    "print(\"Gli studenti che hanno frequentato una prima edizione sono:\")\n",
    "for studente, edizione in zip(studenti, edizioni):  \n",
    "    if edizione == 1:\n",
    "        print(studente)\n",
    "    "
   ]
  },
  {
   "cell_type": "code",
   "execution_count": 103,
   "id": "02f586b8-7857-46fd-8f12-21e1966965e8",
   "metadata": {},
   "outputs": [
    {
     "name": "stdout",
     "output_type": "stream",
     "text": [
      "La lista aggiornata è la seguente:\n",
      "['100 $', '200 $', '500 $', '10 $', '50 $', '70 $']\n"
     ]
    }
   ],
   "source": [
    "# 23. Abbiamo una lista di stringhe di prezzi in dollari, che erroneamente sono stati scritti con il simbolo dell'euro:\n",
    "# cambiare il simbolo dell'euro (€) in quello del dollaro ($) per ogni stringa nella lista; il risultato sarà memorizzato in un'altra lista.\n",
    "\n",
    "prezzi = [\"100 €\", \"200 €\", \"500 €\", \"10 €\", \"50 €\", \"70 €\"]\n",
    "risultati = []\n",
    "print(\"La lista aggiornata è la seguente:\")\n",
    "for prezzo in prezzi:\n",
    "    risultato = prezzo.replace(\"€\", \"$\")\n",
    "    risultati.append(risultato)\n",
    "print(risultati)\n"
   ]
  },
  {
   "cell_type": "code",
   "execution_count": 99,
   "id": "1ad4f14a-d9e8-4aa1-8e6f-d75b8acddad4",
   "metadata": {},
   "outputs": [
    {
     "name": "stdout",
     "output_type": "stream",
     "text": [
      "La squadra 1 è: ['Alex', 'Cindy', 'Emma', 'Grace', 'Isabelle']\n",
      "La squadra 2 è: ['Bob', 'Dan', 'Faith', 'Henry', 'John']\n"
     ]
    }
   ],
   "source": [
    "# 24. Abbiamo una lista di studenti. vogliamo dividere gli studenti in due squadre per un campionato di Uno nel seguente modo: \n",
    "# selezioneremo i nomi in posizione pari per un squadra, e i nomi in posizione dispari per l'altra.\n",
    "# Creiamo due liste per ogni squadra, e alla fine visualizziamole.\n",
    "\n",
    "studenti = [\"Alex\", \"Bob\", \"Cindy\", \"Dan\", \"Emma\", \"Faith\", \"Grace\", \"Henry\", \"Isabelle\", \"John\"]\n",
    "indice = 1\n",
    "squadra1 = []\n",
    "squadra2 = []\n",
    "for studente in studenti:\n",
    "    if indice % 2 == 0:\n",
    "        squadra2.append(studente)\n",
    "    else:\n",
    "        squadra1.append(studente)\n",
    "    indice += 1\n",
    "\n",
    "print(f\"La squadra 1 è: {squadra1}\")\n",
    "print(f\"La squadra 2 è: {squadra2}\")\n",
    "\n"
   ]
  },
  {
   "cell_type": "code",
   "execution_count": 6,
   "id": "3acc6940-d8e9-479b-86f7-4b2362b0caf6",
   "metadata": {},
   "outputs": [
    {
     "name": "stdout",
     "output_type": "stream",
     "text": [
      "Il guadagno del mese 1 è 100\n",
      "Mese 2: il guadagno è 90 . La media dei mesi precedente è: 100.0. Il guadagno è minore del mese precedente\n",
      "Mese 3: il guadagno è 70 . La media dei mesi precedente è: 95.0. Il guadagno è minore del mese precedente\n",
      "Mese 4: il guadagno è 40 . La media dei mesi precedente è: 86.66666666666667. Il guadagno è minore del mese precedente\n",
      "Mese 5: il guadagno è 50 . La media dei mesi precedente è: 75.0. Il guadagno è minore del mese precedente\n",
      "Mese 6: il guadagno è 80 . La media dei mesi precedente è: 70.0. Il guadagno è maggiore del mese precedente\n",
      "Mese 7: il guadagno è 90 . La media dei mesi precedente è: 71.66666666666667. Il guadagno è maggiore del mese precedente\n",
      "Mese 8: il guadagno è 120 . La media dei mesi precedente è: 74.28571428571429. Il guadagno è maggiore del mese precedente\n",
      "Mese 9: il guadagno è 80 . La media dei mesi precedente è: 80.0. Il guadagno è minore del mese precedente\n",
      "Mese 10: il guadagno è 20 . La media dei mesi precedente è: 80.0. Il guadagno è minore del mese precedente\n",
      "Mese 11: il guadagno è 50 . La media dei mesi precedente è: 74.0. Il guadagno è minore del mese precedente\n",
      "Mese 12: il guadagno è 50 . La media dei mesi precedente è: 71.81818181818181. Il guadagno è minore del mese precedente\n"
     ]
    }
   ],
   "source": [
    "# 25. Abbiamo una lista con i guadagni degli ultimi 12 mesi (supponiamo da Gennaio a Dicembre):\n",
    "# dobbiamo confrontare, stampando tutto a video, il guadagno di ogni mese con la media dei guadagni precedenti, e specificare nell'output se il guadagno attuale è maggiore o minore della media dei precedenti.\n",
    "\n",
    "guadagni = [100, 90, 70, 40, 50, 80, 90, 120, 80, 20, 50, 50]\n",
    "somma = 0\n",
    "ind_mese = 1\n",
    "\n",
    "for guadagno in guadagni:\n",
    "    if ind_mese == 1:\n",
    "        print(f\"Il guadagno del mese {ind_mese} è {guadagno}\")\n",
    "    else:\n",
    "        media_guadagni = somma / (ind_mese - 1)\n",
    "        if guadagno > media_guadagni:\n",
    "            confronto = \"maggiore\"\n",
    "        else:\n",
    "            confronto = \"minore\"\n",
    "        print(f\"Mese {ind_mese}: il guadagno è {guadagno} . La media dei mesi precedenti è: {media_guadagni}. Il guadagno è {confronto} del mese precedente\")\n",
    "        \n",
    "    somma += guadagno\n",
    "    ind_mese += 1"
   ]
  },
  {
   "cell_type": "code",
   "execution_count": null,
   "id": "99d99645-7787-476c-af67-a5d0b6724050",
   "metadata": {},
   "outputs": [],
   "source": []
  }
 ],
 "metadata": {
  "kernelspec": {
   "display_name": "Python 3 (ipykernel)",
   "language": "python",
   "name": "python3"
  },
  "language_info": {
   "codemirror_mode": {
    "name": "ipython",
    "version": 3
   },
   "file_extension": ".py",
   "mimetype": "text/x-python",
   "name": "python",
   "nbconvert_exporter": "python",
   "pygments_lexer": "ipython3",
   "version": "3.12.7"
  }
 },
 "nbformat": 4,
 "nbformat_minor": 5
}
